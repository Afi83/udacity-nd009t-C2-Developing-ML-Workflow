{
 "cells": [
  {
   "cell_type": "markdown",
   "metadata": {},
   "source": [
    "# Deploy and monitor a machine learning workflow for Image Classification"
   ]
  },
  {
   "cell_type": "markdown",
   "metadata": {},
   "source": [
    "## Setting up this notebook\r\n",
    "\r\n",
    "Notes about the instance size and kernel setup: this notebook has been tested on\r\n",
    "\r\n",
    "1. The `Python 3 (Data Science)` kernel\r\n",
    "2. The `ml.t3.medium` instance\r\n",
    "\r\n",
    "## Data Staging\r\n",
    "\r\n",
    "We'll use a sample dataset called CIFAR to simulate the challenges Scones Unlimited are facing in Image Classification. In order to start working with CIFAR we'll need to:\r\n",
    "\r\n",
    "1. Extract the data from a hosting service\r\n",
    "2. Transform it into a usable shape and format\r\n",
    "3. Load it into a production system\r\n",
    "\r\n",
    "In other words, we're going to do some simple ETL!\r\n",
    "\r\n",
    "### 1. Extract the data from the hosting service\r\n",
    "\r\n",
    "In the cell below, define a function `extract_cifar_data` that extracts python version of the CIFAR-100 dataset. The CIFAR dataaset is open source and generously hosted by the University of Toronto at: https://www.cs.toronto.edu/~kriz/cifar-100-python.tar.gz "
   ]
  },
  {
   "cell_type": "code",
   "execution_count": 5,
   "metadata": {},
   "outputs": [],
   "source": [
    "import requests\n",
    "\n",
    "def extract_cifar_data(url, filename=\"cifar.tar.gz\"):\n",
    "    \"\"\"A function for extracting the CIFAR-100 dataset and storing it as a gzipped file\n",
    "    \n",
    "    Arguments:\n",
    "    url      -- the URL where the dataset is hosted\n",
    "    filename -- the full path where the dataset will be written\n",
    "    \n",
    "    \"\"\"\n",
    "    \n",
    "    # Todo: request the data from the data url\n",
    "    # Hint: use `requests.get` method\n",
    "    r = requests.get(url)\n",
    "    with open(filename, \"wb\") as file_context:\n",
    "        file_context.write(r.content)\n",
    "    return"
   ]
  },
  {
   "cell_type": "markdown",
   "metadata": {},
   "source": [
    "Let's test it out! Run the following cell and check whether a new file `cifar.tar.gz` is created in the file explorer."
   ]
  },
  {
   "cell_type": "code",
   "execution_count": 6,
   "metadata": {},
   "outputs": [],
   "source": [
    "extract_cifar_data(\"https://www.cs.toronto.edu/~kriz/cifar-100-python.tar.gz\")     "
   ]
  },
  {
   "cell_type": "markdown",
   "metadata": {},
   "source": [
    "### 2. Transform the data into a usable shape and format\n",
    "\n",
    "Clearly, distributing the data as a gzipped archive makes sense for the hosting service! It saves on bandwidth, storage, and it's a widely-used archive format. In fact, it's so widely used that the Python community ships a utility for working with them, `tarfile`, as part of its Standard Library. Execute the following cell to decompress your extracted dataset:"
   ]
  },
  {
   "cell_type": "code",
   "execution_count": 7,
   "metadata": {},
   "outputs": [],
   "source": [
    "import tarfile\r\n",
    "\r\n",
    "with tarfile.open(\"cifar.tar.gz\", \"r:gz\") as tar:\r\n",
    "    tar.extractall()"
   ]
  },
  {
   "cell_type": "markdown",
   "metadata": {},
   "source": [
    "A new folder `cifar-100-python` should be created, containing `meta`, `test`, and `train` files. These files are `pickles` and the [CIFAR homepage](https://www.cs.toronto.edu/~kriz/cifar.html) provides a simple script that can be used to load them. We've adapted the script below for you to run:"
   ]
  },
  {
   "cell_type": "code",
   "execution_count": 3,
   "metadata": {},
   "outputs": [],
   "source": [
    "import pickle\r\n",
    "\r\n",
    "with open(\"./cifar-100-python/meta\", \"rb\") as f:\r\n",
    "    dataset_meta = pickle.load(f, encoding='bytes')\r\n",
    "\r\n",
    "with open(\"./cifar-100-python/test\", \"rb\") as f:\r\n",
    "    dataset_test = pickle.load(f, encoding='bytes')\r\n",
    "\r\n",
    "with open(\"./cifar-100-python/train\", \"rb\") as f:\r\n",
    "    dataset_train = pickle.load(f, encoding='bytes')"
   ]
  },
  {
   "cell_type": "code",
   "execution_count": 3,
   "metadata": {},
   "outputs": [
    {
     "data": {
      "text/plain": [
       "dict_keys([b'filenames', b'batch_label', b'fine_labels', b'coarse_labels', b'data'])"
      ]
     },
     "execution_count": 3,
     "metadata": {},
     "output_type": "execute_result"
    }
   ],
   "source": [
    "# Feel free to explore the datasets\r\n",
    "\r\n",
    "dataset_train.keys()"
   ]
  },
  {
   "cell_type": "markdown",
   "metadata": {},
   "source": [
    "As documented on the homepage, `b'data'` contains rows of 3073 unsigned integers, representing three channels (red, green, and blue) for one 32x32 pixel image per row."
   ]
  },
  {
   "cell_type": "code",
   "execution_count": 10,
   "metadata": {},
   "outputs": [
    {
     "data": {
      "text/plain": [
       "3072"
      ]
     },
     "execution_count": 10,
     "metadata": {},
     "output_type": "execute_result"
    }
   ],
   "source": [
    "32*32*3"
   ]
  },
  {
   "cell_type": "markdown",
   "metadata": {},
   "source": [
    "For a simple gut-check, let's transform one of our images. Each 1024 items in a row is a channel (red, green, then blue). Each 32 items in the channel are a row in the 32x32 image. Using python, we can stack these channels into a 32x32x3 array, and save it as a PNG file:"
   ]
  },
  {
   "cell_type": "code",
   "execution_count": 4,
   "metadata": {},
   "outputs": [],
   "source": [
    "import numpy as np\r\n",
    "\r\n",
    "# Each 1024 in a row is a channel (red, green, then blue)\r\n",
    "row = dataset_train[b'data'][0]\r\n",
    "red, green, blue = row[0:1024], row[1024:2048], row[2048:]\r\n",
    "\r\n",
    "# Each 32 items in the channel are a row in the 32x32 image\r\n",
    "red = red.reshape(32,32)\r\n",
    "green = green.reshape(32,32)\r\n",
    "blue = blue.reshape(32,32)\r\n",
    "\r\n",
    "# Combine the channels into a 32x32x3 image!\r\n",
    "combined = np.dstack((red,green,blue))"
   ]
  },
  {
   "cell_type": "markdown",
   "metadata": {},
   "source": [
    "For a more concise version, consider the following:"
   ]
  },
  {
   "cell_type": "code",
   "execution_count": 5,
   "metadata": {},
   "outputs": [],
   "source": [
    "# All in one:\r\n",
    "test_image = np.dstack((\r\n",
    "    row[0:1024].reshape(32,32),\r\n",
    "    row[1024:2048].reshape(32,32),\r\n",
    "    row[2048:].reshape(32,32)\r\n",
    "))"
   ]
  },
  {
   "cell_type": "code",
   "execution_count": 6,
   "metadata": {},
   "outputs": [
    {
     "data": {
      "image/png": "[encoded data removed]",
      "text/plain": [
       "<Figure size 432x288 with 1 Axes>"
      ]
     },
     "metadata": {
      "needs_background": "light"
     },
     "output_type": "display_data"
    }
   ],
   "source": [
    "import matplotlib.pyplot as plt\n",
    "plt.imshow(test_image);"
   ]
  },
  {
   "cell_type": "markdown",
   "metadata": {},
   "source": [
    "Looks like a cow! Let's check the label. `dataset_meta` contains label names in order, and `dataset_train` has a list of labels for each row."
   ]
  },
  {
   "cell_type": "code",
   "execution_count": 14,
   "metadata": {},
   "outputs": [
    {
     "data": {
      "text/plain": [
       "19"
      ]
     },
     "execution_count": 14,
     "metadata": {},
     "output_type": "execute_result"
    }
   ],
   "source": [
    "dataset_train[b'fine_labels'][0]"
   ]
  },
  {
   "cell_type": "markdown",
   "metadata": {},
   "source": [
    "Our image has a label of `19`, so let's see what the 19th item is in the list of label names."
   ]
  },
  {
   "cell_type": "code",
   "execution_count": 15,
   "metadata": {},
   "outputs": [
    {
     "name": "stdout",
     "output_type": "stream",
     "text": [
      "b'cattle'\n"
     ]
    }
   ],
   "source": [
    "print(dataset_meta[b'fine_label_names'][19])"
   ]
  },
  {
   "cell_type": "markdown",
   "metadata": {},
   "source": [
    "Ok! 'cattle' sounds about right. By the way, using the previous two lines we can do:"
   ]
  },
  {
   "cell_type": "code",
   "execution_count": 16,
   "metadata": {},
   "outputs": [
    {
     "name": "stdout",
     "output_type": "stream",
     "text": [
      "b'cattle'\n"
     ]
    }
   ],
   "source": [
    "n = 0\n",
    "print(dataset_meta[b'fine_label_names'][dataset_train[b'fine_labels'][n]])"
   ]
  },
  {
   "cell_type": "markdown",
   "metadata": {},
   "source": [
    "Now we know how to check labels, is there a way that we can also check file names? `dataset_train` also contains a `b'filenames'` key. Let's see what we have here:"
   ]
  },
  {
   "cell_type": "code",
   "execution_count": 17,
   "metadata": {},
   "outputs": [
    {
     "name": "stdout",
     "output_type": "stream",
     "text": [
      "b'bos_taurus_s_000507.png'\n"
     ]
    }
   ],
   "source": [
    "print(dataset_train[b'filenames'][0])"
   ]
  },
  {
   "cell_type": "markdown",
   "metadata": {},
   "source": [
    "\"Taurus\" is the name of a subspecies of cattle, so this looks like a pretty reasonable filename. To save an image we can also do:"
   ]
  },
  {
   "cell_type": "code",
   "execution_count": 18,
   "metadata": {},
   "outputs": [],
   "source": [
    "plt.imsave(\"file.png\", test_image)"
   ]
  },
  {
   "cell_type": "markdown",
   "metadata": {},
   "source": [
    "Your new PNG file should now appear in the file explorer -- go ahead and pop it open to see!\n",
    "\n",
    "Now that you know how to reshape the images, save them as files, and capture their filenames and labels, let's just capture all the bicycles and motorcycles and save them. Scones Unlimited can use a model that tells these apart to route delivery drivers automatically.\n",
    "\n",
    "In the following cell, identify the label numbers for Bicycles and Motorcycles:"
   ]
  },
  {
   "cell_type": "code",
   "execution_count": 7,
   "metadata": {},
   "outputs": [
    {
     "data": {
      "text/plain": [
       "{8, 48}"
      ]
     },
     "execution_count": 7,
     "metadata": {},
     "output_type": "execute_result"
    }
   ],
   "source": [
    "import pandas as pd\n",
    "\n",
    "# Todo: Filter the dataset_train and dataset_meta objects to find the label numbers for Bicycle and Motorcycles\n",
    "\n",
    "{ label_num for \n",
    "     label_num in dataset_train[b'fine_labels'] \n",
    "     if dataset_meta[b'fine_label_names'][label_num] in [b'bicycle', b'motorcycle']\n",
    "}"
   ]
  },
  {
   "cell_type": "markdown",
   "metadata": {},
   "source": [
    "Good job! We only need objects with label 8 and 48 -- this drastically simplifies our handling of the data! Below we construct a dataframe for you, and you can safely drop the rows that don't contain observations about bicycles and motorcycles. Fill in the missing lines below to drop all other rows:"
   ]
  },
  {
   "cell_type": "code",
   "execution_count": 8,
   "metadata": {},
   "outputs": [],
   "source": [
    "#Construct the dataframe\n",
    "df_train = pd.DataFrame({\n",
    "    \"filenames\": dataset_train[b'filenames'],\n",
    "    \"labels\": dataset_train[b'fine_labels'],\n",
    "    \"row\": range(len(dataset_train[b'filenames']))\n",
    "})\n",
    "\n",
    "# Drop all rows from df_train where label is not 8 or 48\n",
    "df_train = df_train.loc[df_train[\"labels\"].isin([8,48])]\n",
    "           \n",
    "\n",
    "# Decode df_train.filenames so they are regular strings\n",
    "df_train[\"filenames\"] = df_train[\"filenames\"].apply(\n",
    "    lambda x: x.decode(\"utf-8\")\n",
    ")\n",
    "\n",
    "\n",
    "df_test = pd.DataFrame({\n",
    "    \"filenames\": dataset_test[b'filenames'],\n",
    "    \"labels\": dataset_test[b'fine_labels'],\n",
    "    \"row\": range(len(dataset_test[b'filenames']))\n",
    "})\n",
    "\n",
    "# Drop all rows from df_test where label is not 8 or 48\n",
    "df_test = df_test.loc[df_test[\"labels\"].isin([8,48])]\n",
    "\n",
    "# Decode df_test.filenames so they are regular strings\n",
    "df_test[\"filenames\"] = df_test[\"filenames\"].apply(\n",
    "    lambda x: x.decode(\"utf-8\")\n",
    ")"
   ]
  },
  {
   "cell_type": "markdown",
   "metadata": {},
   "source": [
    "Now that the data is filtered for just our classes, we can save all our images."
   ]
  },
  {
   "cell_type": "code",
   "execution_count": 84,
   "metadata": {},
   "outputs": [],
   "source": [
    "!mkdir ./train\n",
    "!mkdir ./test"
   ]
  },
  {
   "cell_type": "markdown",
   "metadata": {},
   "source": [
    "In the previous sections we introduced you to several key snippets of code:\n",
    "\n",
    "1. Grabbing the image data:\n",
    "\n",
    "```python\n",
    "dataset_train[b'data'][0]\n",
    "```\n",
    "\n",
    "2. A simple idiom for stacking the image data into the right shape\n",
    "\n",
    "```python\n",
    "import numpy as np\n",
    "np.dstack((\n",
    "    row[0:1024].reshape(32,32),\n",
    "    row[1024:2048].reshape(32,32),\n",
    "    row[2048:].reshape(32,32)\n",
    "))\n",
    "```\n",
    "\n",
    "3. A simple `matplotlib` utility for saving images\n",
    "\n",
    "```python\n",
    "plt.imsave(path+row['filenames'], target)\n",
    "```\n",
    "\n",
    "Compose these together into a function that saves all the images into the `./test` and `./train` directories. Use the comments in the body of the `save_images` function below to guide your construction of the function:\n"
   ]
  },
  {
   "cell_type": "code",
   "execution_count": 85,
   "metadata": {},
   "outputs": [],
   "source": [
    "def save_images(row, path, dataset):\n",
    "    \"\"\"A function for saving images to the provided path folders for the dataset\n",
    "    \n",
    "    Arguments:\n",
    "    row      -- provided row in the dataframe to save the image of\n",
    "    path     -- path to the folder for saving the iamges\n",
    "    dataset  -- original dataset containing the data for the given images\n",
    "    \n",
    "    \"\"\"\n",
    "    #Grab the image data in row-major form\n",
    "    img = dataset[b'data'][row.row]\n",
    "    \n",
    "    # Consolidated stacking/reshaping from earlier\n",
    "    target = np.dstack((\n",
    "        img[0:1024].reshape(32,32),\n",
    "        img[1024:2048].reshape(32,32),\n",
    "        img[2048:].reshape(32,32)\n",
    "    ))\n",
    "    \n",
    "    # Save the image\n",
    "    try:\n",
    "        plt.imsave(path+row.filenames, target)\n",
    "    except e:\n",
    "        return f\"Error Saving {row.filenames}\"\n",
    "    # Return any signal data you want for debugging\n",
    "    return f\"Successful saving {row.filenames}\"\n"
   ]
  },
  {
   "cell_type": "code",
   "execution_count": 86,
   "metadata": {
    "collapsed": true,
    "jupyter": {
     "outputs_hidden": true
    }
   },
   "outputs": [
    {
     "data": {
      "text/plain": [
       "['Successful saving safety_bike_s_000390.png',\n",
       " 'Successful saving bike_s_000658.png',\n",
       " 'Successful saving velocipede_s_001744.png',\n",
       " 'Successful saving bike_s_000643.png',\n",
       " 'Successful saving ordinary_bicycle_s_000437.png',\n",
       " 'Successful saving motorcycle_s_000323.png',\n",
       " 'Successful saving safety_bike_s_001253.png',\n",
       " 'Successful saving cycle_s_001306.png',\n",
       " 'Successful saving velocipede_s_000863.png',\n",
       " 'Successful saving bicycle_s_000479.png',\n",
       " 'Successful saving minibike_s_002173.png',\n",
       " 'Successful saving motorcycle_s_000352.png',\n",
       " 'Successful saving bike_s_000801.png',\n",
       " 'Successful saving motorbike_s_000433.png',\n",
       " 'Successful saving bike_s_001068.png',\n",
       " 'Successful saving motorcycle_s_000963.png',\n",
       " 'Successful saving bike_s_001852.png',\n",
       " 'Successful saving motorcycle_s_000139.png',\n",
       " 'Successful saving motorbike_s_000465.png',\n",
       " 'Successful saving bicycle_s_000513.png',\n",
       " 'Successful saving cycle_s_002305.png',\n",
       " 'Successful saving motorcycle_s_000615.png',\n",
       " 'Successful saving moped_s_000306.png',\n",
       " 'Successful saving minibike_s_000052.png',\n",
       " 'Successful saving bike_s_001342.png',\n",
       " 'Successful saving cycle_s_001297.png',\n",
       " 'Successful saving motorcycle_s_001955.png',\n",
       " 'Successful saving cycle_s_001953.png',\n",
       " 'Successful saving motorcycle_s_000494.png',\n",
       " 'Successful saving motorcycle_s_001249.png',\n",
       " 'Successful saving velocipede_s_000292.png',\n",
       " 'Successful saving minibike_s_001651.png',\n",
       " 'Successful saving bicycle_s_001102.png',\n",
       " 'Successful saving safety_bike_s_001132.png',\n",
       " 'Successful saving moped_s_000007.png',\n",
       " 'Successful saving motorcycle_s_000211.png',\n",
       " 'Successful saving cycle_s_000970.png',\n",
       " 'Successful saving motorcycle_s_002126.png',\n",
       " 'Successful saving minibike_s_001732.png',\n",
       " 'Successful saving minibike_s_001867.png',\n",
       " 'Successful saving minibike_s_002227.png',\n",
       " 'Successful saving cycle_s_000068.png',\n",
       " 'Successful saving minibike_s_000880.png',\n",
       " 'Successful saving moped_s_000033.png',\n",
       " 'Successful saving bicycle_s_001107.png',\n",
       " 'Successful saving bike_s_002116.png',\n",
       " 'Successful saving bike_s_001738.png',\n",
       " 'Successful saving bike_s_002009.png',\n",
       " 'Successful saving minibike_s_000947.png',\n",
       " 'Successful saving bike_s_001159.png',\n",
       " 'Successful saving safety_bike_s_001065.png',\n",
       " 'Successful saving motorbike_s_000005.png',\n",
       " 'Successful saving minibike_s_000075.png',\n",
       " 'Successful saving motorcycle_s_001164.png',\n",
       " 'Successful saving motorcycle_s_000679.png',\n",
       " 'Successful saving motorcycle_s_001892.png',\n",
       " 'Successful saving bike_s_000694.png',\n",
       " 'Successful saving velocipede_s_000106.png',\n",
       " 'Successful saving velocipede_s_000001.png',\n",
       " 'Successful saving motorcycle_s_002177.png',\n",
       " 'Successful saving motorbike_s_000126.png',\n",
       " 'Successful saving safety_bicycle_s_001286.png',\n",
       " 'Successful saving motorcycle_s_001936.png',\n",
       " 'Successful saving safety_bike_s_001087.png',\n",
       " 'Successful saving cycle_s_001648.png',\n",
       " 'Successful saving minibike_s_000801.png',\n",
       " 'Successful saving motorcycle_s_000427.png',\n",
       " 'Successful saving minibike_s_001089.png',\n",
       " 'Successful saving motorcycle_s_000530.png',\n",
       " 'Successful saving velocipede_s_001232.png',\n",
       " 'Successful saving motorcycle_s_001261.png',\n",
       " 'Successful saving velocipede_s_001466.png',\n",
       " 'Successful saving motorcycle_s_001269.png',\n",
       " 'Successful saving bicycle_s_000776.png',\n",
       " 'Successful saving motorcycle_s_001348.png',\n",
       " 'Successful saving motorcycle_s_002026.png',\n",
       " 'Successful saving safety_bike_s_000540.png',\n",
       " 'Successful saving safety_bicycle_s_000280.png',\n",
       " 'Successful saving bike_s_000131.png',\n",
       " 'Successful saving cycle_s_000010.png',\n",
       " 'Successful saving minibike_s_000828.png',\n",
       " 'Successful saving minibike_s_000288.png',\n",
       " 'Successful saving velocipede_s_001355.png',\n",
       " 'Successful saving safety_bicycle_s_001575.png',\n",
       " 'Successful saving safety_bike_s_001690.png',\n",
       " 'Successful saving cycle_s_001044.png',\n",
       " 'Successful saving motorcycle_s_000063.png',\n",
       " 'Successful saving velocipede_s_001379.png',\n",
       " 'Successful saving minibike_s_001441.png',\n",
       " 'Successful saving motorcycle_s_000797.png',\n",
       " 'Successful saving velocipede_s_001790.png',\n",
       " 'Successful saving motorbike_s_000135.png',\n",
       " 'Successful saving cycle_s_002613.png',\n",
       " 'Successful saving motorcycle_s_001960.png',\n",
       " 'Successful saving minibike_s_000913.png',\n",
       " 'Successful saving motorcycle_s_000685.png',\n",
       " 'Successful saving ordinary_bicycle_s_000431.png',\n",
       " 'Successful saving minibike_s_002051.png',\n",
       " 'Successful saving motorcycle_s_000446.png',\n",
       " 'Successful saving velocipede_s_001699.png',\n",
       " 'Successful saving minibike_s_000792.png',\n",
       " 'Successful saving bicycle_s_002458.png',\n",
       " 'Successful saving minibike_s_000505.png',\n",
       " 'Successful saving minibike_s_000573.png',\n",
       " 'Successful saving velocipede_s_000369.png',\n",
       " 'Successful saving moped_s_000064.png',\n",
       " 'Successful saving minibike_s_001893.png',\n",
       " 'Successful saving motorcycle_s_000878.png',\n",
       " 'Successful saving motorcycle_s_000042.png',\n",
       " 'Successful saving motorcycle_s_000606.png',\n",
       " 'Successful saving minibike_s_002230.png',\n",
       " 'Successful saving motorcycle_s_001519.png',\n",
       " 'Successful saving motorcycle_s_000512.png',\n",
       " 'Successful saving cycle_s_001915.png',\n",
       " 'Successful saving safety_bike_s_000541.png',\n",
       " 'Successful saving safety_bike_s_000192.png',\n",
       " 'Successful saving bicycle_s_000030.png',\n",
       " 'Successful saving motorcycle_s_001385.png',\n",
       " 'Successful saving minibike_s_000960.png',\n",
       " 'Successful saving safety_bike_s_000791.png',\n",
       " 'Successful saving bike_s_000071.png',\n",
       " 'Successful saving motorcycle_s_000876.png',\n",
       " 'Successful saving ordinary_bicycle_s_000350.png',\n",
       " 'Successful saving motorcycle_s_000602.png',\n",
       " 'Successful saving motorcycle_s_000222.png',\n",
       " 'Successful saving minibike_s_000309.png',\n",
       " 'Successful saving motorcycle_s_001679.png',\n",
       " 'Successful saving minibike_s_001473.png',\n",
       " 'Successful saving velocipede_s_001633.png',\n",
       " 'Successful saving safety_bike_s_000438.png',\n",
       " 'Successful saving safety_bicycle_s_000315.png',\n",
       " 'Successful saving motorcycle_s_002112.png',\n",
       " 'Successful saving bike_s_000163.png',\n",
       " 'Successful saving bicycle_s_000059.png',\n",
       " 'Successful saving bicycle_s_001789.png',\n",
       " 'Successful saving safety_bike_s_000699.png',\n",
       " 'Successful saving motorbike_s_000324.png',\n",
       " 'Successful saving motorcycle_s_000485.png',\n",
       " 'Successful saving motorcycle_s_001687.png',\n",
       " 'Successful saving minibike_s_000497.png',\n",
       " 'Successful saving minibike_s_001547.png',\n",
       " 'Successful saving minibike_s_000055.png',\n",
       " 'Successful saving ordinary_bicycle_s_000169.png',\n",
       " 'Successful saving minibike_s_000290.png',\n",
       " 'Successful saving velocipede_s_001335.png',\n",
       " 'Successful saving bicycle_s_001804.png',\n",
       " 'Successful saving safety_bike_s_000488.png',\n",
       " 'Successful saving bike_s_001216.png',\n",
       " 'Successful saving motorbike_s_000121.png',\n",
       " 'Successful saving bike_s_001073.png',\n",
       " 'Successful saving safety_bicycle_s_001153.png',\n",
       " 'Successful saving motorcycle_s_000171.png',\n",
       " 'Successful saving velocipede_s_000041.png',\n",
       " 'Successful saving motorcycle_s_001782.png',\n",
       " 'Successful saving motorbike_s_000629.png',\n",
       " 'Successful saving bicycle_s_000977.png',\n",
       " 'Successful saving motorcycle_s_001906.png',\n",
       " 'Successful saving bike_s_002208.png',\n",
       " 'Successful saving minibike_s_000254.png',\n",
       " 'Successful saving safety_bicycle_s_001322.png',\n",
       " 'Successful saving bike_s_000041.png',\n",
       " 'Successful saving bicycle_s_000031.png',\n",
       " 'Successful saving bicycle_s_000779.png',\n",
       " 'Successful saving velocipede_s_001277.png',\n",
       " 'Successful saving safety_bike_s_001088.png',\n",
       " 'Successful saving motorcycle_s_001971.png',\n",
       " 'Successful saving bike_s_001784.png',\n",
       " 'Successful saving motorcycle_s_000825.png',\n",
       " 'Successful saving dirt_bike_s_000001.png',\n",
       " 'Successful saving cycle_s_001214.png',\n",
       " 'Successful saving cycle_s_002964.png',\n",
       " 'Successful saving ordinary_bicycle_s_000284.png',\n",
       " 'Successful saving bicycle_s_002735.png',\n",
       " 'Successful saving motorcycle_s_000450.png',\n",
       " 'Successful saving motorcycle_s_000049.png',\n",
       " 'Successful saving motorcycle_s_000866.png',\n",
       " 'Successful saving velocipede_s_001201.png',\n",
       " 'Successful saving bike_s_000457.png',\n",
       " 'Successful saving bike_s_000330.png',\n",
       " 'Successful saving minibike_s_001605.png',\n",
       " 'Successful saving minibike_s_000398.png',\n",
       " 'Successful saving motorcycle_s_000007.png',\n",
       " 'Successful saving motorcycle_s_000040.png',\n",
       " 'Successful saving motorcycle_s_000739.png',\n",
       " 'Successful saving motorbike_s_000333.png',\n",
       " 'Successful saving safety_bike_s_001481.png',\n",
       " 'Successful saving ordinary_bicycle_s_000158.png',\n",
       " 'Successful saving motorcycle_s_001508.png',\n",
       " 'Successful saving motorcycle_s_000060.png',\n",
       " 'Successful saving cycle_s_002661.png',\n",
       " 'Successful saving bicycle_s_001047.png',\n",
       " 'Successful saving bicycle_s_000777.png',\n",
       " 'Successful saving safety_bicycle_s_000235.png',\n",
       " 'Successful saving bike_s_000487.png',\n",
       " 'Successful saving ordinary_bicycle_s_000113.png',\n",
       " 'Successful saving trail_bike_s_000073.png',\n",
       " 'Successful saving bike_s_000941.png',\n",
       " 'Successful saving motorcycle_s_000141.png',\n",
       " 'Successful saving ordinary_bicycle_s_000105.png',\n",
       " 'Successful saving bicycle_s_001218.png']"
      ]
     },
     "execution_count": 86,
     "metadata": {},
     "output_type": "execute_result"
    }
   ],
   "source": [
    "## TODO: save ALL images using the save_images function\n",
    "## Iterate over the original tarining dataset and save training images\n",
    "[save_images(row, './train/', dataset_train)  for row in df_train.itertuples()]\n",
    "\n",
    "# saving test images \n",
    "[save_images(row, './test/', dataset_test)  for row in df_test.itertuples()]"
   ]
  },
  {
   "cell_type": "markdown",
   "metadata": {},
   "source": [
    "df_train Load the data\n",
    "\n",
    "Now we can load the data into S3.\n",
    "\n",
    "Using the sagemaker SDK grab the current region, execution role, and bucket."
   ]
  },
  {
   "cell_type": "code",
   "execution_count": 9,
   "metadata": {},
   "outputs": [
    {
     "name": "stdout",
     "output_type": "stream",
     "text": [
      "Default Bucket: sagemaker-us-east-1-982105387725\n",
      "AWS Region: us-east-1\n",
      "RoleArn: arn:aws:iam::982105387725:role/service-role/AmazonSageMaker-ExecutionRole-20211110T053386\n"
     ]
    }
   ],
   "source": [
    "import sagemaker\n",
    "\n",
    "\n",
    "session = sagemaker.Session()\n",
    "\n",
    "bucket= session.default_bucket()\n",
    "print(\"Default Bucket: {}\".format(bucket))\n",
    "\n",
    "region = session.boto_region_name\n",
    "print(\"AWS Region: {}\".format(region))\n",
    "\n",
    "role = sagemaker.get_execution_role()\n",
    "print(\"RoleArn: {}\".format(role))"
   ]
  },
  {
   "cell_type": "markdown",
   "metadata": {},
   "source": [
    "With this data we can easily sync your data up into S3!"
   ]
  },
  {
   "cell_type": "code",
   "execution_count": 10,
   "metadata": {},
   "outputs": [
    {
     "name": "stdout",
     "output_type": "stream",
     "text": [
      "upload: train/.ipynb_checkpoints/bicycle_s_000017-checkpoint.png to s3://sagemaker-us-east-1-982105387725/train/.ipynb_checkpoints/bicycle_s_000017-checkpoint.png\n",
      "                                                                                  \n"
     ]
    }
   ],
   "source": [
    "import os\n",
    "\n",
    "os.environ[\"DEFAULT_S3_BUCKET\"] = bucket\n",
    "!aws s3 sync ./train s3://${DEFAULT_S3_BUCKET}/train/\n",
    "!aws s3 sync ./test s3://${DEFAULT_S3_BUCKET}/test/"
   ]
  },
  {
   "cell_type": "markdown",
   "metadata": {},
   "source": [
    "And that's it! You can check the bucket and verify that the items were uploaded.\n",
    "\n",
    "## Model Training\n",
    "\n",
    "For Image Classification, Sagemaker [also expects metadata](https://docs.aws.amazon.com/sagemaker/latest/dg/image-classification.html) e.g. in the form of TSV files with labels and filepaths. We can generate these using our Pandas DataFrames from earlier:"
   ]
  },
  {
   "cell_type": "code",
   "execution_count": 11,
   "metadata": {},
   "outputs": [],
   "source": [
    "def to_metadata_file(df, prefix):\n",
    "    df[\"s3_path\"] = df[\"filenames\"]\n",
    "    df[\"labels\"] = df[\"labels\"].apply(lambda x: 0 if x==8 else 1)\n",
    "    return df[[\"row\", \"labels\", \"s3_path\"]].to_csv(\n",
    "        f\"{prefix}.lst\", sep=\"\\t\", index=False, header=False\n",
    "    )\n",
    "    \n",
    "to_metadata_file(df_train.copy(), \"train\")\n",
    "to_metadata_file(df_test.copy(), \"test\")"
   ]
  },
  {
   "cell_type": "markdown",
   "metadata": {},
   "source": [
    "We can also upload our manifest files:"
   ]
  },
  {
   "cell_type": "code",
   "execution_count": 12,
   "metadata": {},
   "outputs": [],
   "source": [
    "import boto3\n",
    "\n",
    "# Upload files\n",
    "boto3.Session().resource('s3').Bucket(\n",
    "    bucket).Object('train.lst').upload_file('./train.lst')\n",
    "boto3.Session().resource('s3').Bucket(\n",
    "    bucket).Object('test.lst').upload_file('./test.lst')"
   ]
  },
  {
   "cell_type": "markdown",
   "metadata": {},
   "source": [
    "Using the `bucket` and `region` info we can get the latest prebuilt container to run our training job, and define an output location on our s3 bucket for the model. Use the `image_uris` function from the SageMaker SDK to retrieve the latest `image-classification` image below:"
   ]
  },
  {
   "cell_type": "code",
   "execution_count": 13,
   "metadata": {},
   "outputs": [
    {
     "name": "stderr",
     "output_type": "stream",
     "text": [
      "Defaulting to the only supported framework/algorithm version: 1. Ignoring framework/algorithm version: latest.\n"
     ]
    }
   ],
   "source": [
    "# Use the image_uris function to retrieve the latest 'image-classification' image \n",
    "algo_image = sagemaker.image_uris.retrieve(framework=\"image-classification\", region=region, version=\"latest\")\n",
    "s3_output_location = f\"s3://{bucket}/models/image_model\""
   ]
  },
  {
   "cell_type": "markdown",
   "metadata": {},
   "source": [
    "We're ready to create an estimator! Create an estimator `img_classifier_model` that uses one instance of `ml.p2.xlarge`. Ensure that y ou use the output location we defined above - we'll be referring to that later!"
   ]
  },
  {
   "cell_type": "code",
   "execution_count": 14,
   "metadata": {},
   "outputs": [],
   "source": [
    "img_classifier_model=sagemaker.estimator.Estimator(\n",
    "    algo_image,\n",
    "    role,\n",
    "    instance_count=1,\n",
    "    instance_type=\"ml.p2.xlarge\",\n",
    "    output_path=s3_output_location,\n",
    "    sagemaker_session=session\n",
    ")"
   ]
  },
  {
   "cell_type": "markdown",
   "metadata": {},
   "source": [
    "We can also set a few key hyperparameters and define the inputs for our model:"
   ]
  },
  {
   "cell_type": "code",
   "execution_count": 15,
   "metadata": {},
   "outputs": [],
   "source": [
    "img_classifier_model.set_hyperparameters(\n",
    "    image_shape='3,32,32',\n",
    "    num_classes=2,\n",
    "    num_training_samples= df_train.shape[0]\n",
    ")"
   ]
  },
  {
   "cell_type": "markdown",
   "metadata": {},
   "source": [
    "The `image-classification` image uses four input channels with very specific input parameters. For convenience, we've provided them below:"
   ]
  },
  {
   "cell_type": "code",
   "execution_count": 16,
   "metadata": {},
   "outputs": [],
   "source": [
    "from sagemaker.debugger import Rule, rule_configs\n",
    "from sagemaker.session import TrainingInput\n",
    "model_inputs = {\n",
    "        \"train\": sagemaker.inputs.TrainingInput(\n",
    "            s3_data=f\"s3://{bucket}/train/\",\n",
    "            content_type=\"application/x-image\"\n",
    "        ),\n",
    "        \"validation\": sagemaker.inputs.TrainingInput(\n",
    "            s3_data=f\"s3://{bucket}/test/\",\n",
    "            content_type=\"application/x-image\"\n",
    "        ),\n",
    "        \"train_lst\": sagemaker.inputs.TrainingInput(\n",
    "            s3_data=f\"s3://{bucket}/train.lst\",\n",
    "            content_type=\"application/x-image\"\n",
    "        ),\n",
    "        \"validation_lst\": sagemaker.inputs.TrainingInput(\n",
    "            s3_data=f\"s3://{bucket}/test.lst\",\n",
    "            content_type=\"application/x-image\"\n",
    "        )\n",
    "}"
   ]
  },
  {
   "cell_type": "markdown",
   "metadata": {},
   "source": [
    "Great, now we can train the model using the model_inputs. In the cell below, call the `fit` method on our model,:"
   ]
  },
  {
   "cell_type": "code",
   "execution_count": 17,
   "metadata": {},
   "outputs": [
    {
     "name": "stdout",
     "output_type": "stream",
     "text": [
      "2021-11-25 20:25:27 Starting - Starting the training job...\n",
      "2021-11-25 20:25:35 Starting - Launching requested ML instancesProfilerReport-1637871927: InProgress\n",
      "......\n",
      "2021-11-25 20:26:48 Starting - Preparing the instances for training.........\n",
      "2021-11-25 20:28:24 Downloading - Downloading input data......\n",
      "2021-11-25 20:29:24 Training - Downloading the training image....\u001b[34mDocker entrypoint called with argument(s): train\u001b[0m\n",
      "\u001b[34m[11/25/2021 20:30:06 INFO 139770113902400] Reading default configuration from /opt/amazon/lib/python3.7/site-packages/image_classification/default-input.json: {'use_pretrained_model': 0, 'num_layers': 152, 'epochs': 30, 'learning_rate': 0.1, 'lr_scheduler_factor': 0.1, 'optimizer': 'sgd', 'momentum': 0, 'weight_decay': 0.0001, 'beta_1': 0.9, 'beta_2': 0.999, 'eps': 1e-08, 'gamma': 0.9, 'mini_batch_size': 32, 'image_shape': '3,224,224', 'precision_dtype': 'float32'}\u001b[0m\n",
      "\u001b[34m[11/25/2021 20:30:06 INFO 139770113902400] Merging with provided configuration from /opt/ml/input/config/hyperparameters.json: {'num_classes': '2', 'num_training_samples': '1000', 'image_shape': '3,32,32'}\u001b[0m\n",
      "\u001b[34m[11/25/2021 20:30:06 INFO 139770113902400] Final configuration: {'use_pretrained_model': 0, 'num_layers': 152, 'epochs': 30, 'learning_rate': 0.1, 'lr_scheduler_factor': 0.1, 'optimizer': 'sgd', 'momentum': 0, 'weight_decay': 0.0001, 'beta_1': 0.9, 'beta_2': 0.999, 'eps': 1e-08, 'gamma': 0.9, 'mini_batch_size': 32, 'image_shape': '3,32,32', 'precision_dtype': 'float32', 'num_classes': '2', 'num_training_samples': '1000'}\u001b[0m\n",
      "\u001b[34m[11/25/2021 20:30:06 INFO 139770113902400] Searching for .lst files in /opt/ml/input/data/train_lst.\u001b[0m\n",
      "\u001b[34m[11/25/2021 20:30:06 INFO 139770113902400] Creating record files for train.lst\u001b[0m\n",
      "\u001b[34m[11/25/2021 20:30:06 INFO 139770113902400] Done creating record files...\u001b[0m\n",
      "\u001b[34m[11/25/2021 20:30:06 INFO 139770113902400] Searching for .lst files in /opt/ml/input/data/validation_lst.\u001b[0m\n",
      "\u001b[34m[11/25/2021 20:30:06 INFO 139770113902400] Creating record files for test.lst\u001b[0m\n",
      "\u001b[34m[11/25/2021 20:30:06 INFO 139770113902400] Done creating record files...\u001b[0m\n",
      "\u001b[34m[11/25/2021 20:30:06 INFO 139770113902400] use_pretrained_model: 0\u001b[0m\n",
      "\u001b[34m[11/25/2021 20:30:06 INFO 139770113902400] multi_label: 0\u001b[0m\n",
      "\u001b[34m[11/25/2021 20:30:06 INFO 139770113902400] Performing random weight initialization\u001b[0m\n",
      "\u001b[34m[11/25/2021 20:30:06 INFO 139770113902400] ---- Parameters ----\u001b[0m\n",
      "\u001b[34m[11/25/2021 20:30:06 INFO 139770113902400] num_layers: 152\u001b[0m\n",
      "\u001b[34m[11/25/2021 20:30:06 INFO 139770113902400] data type: <class 'numpy.float32'>\u001b[0m\n",
      "\u001b[34m[11/25/2021 20:30:06 INFO 139770113902400] epochs: 30\u001b[0m\n",
      "\u001b[34m[11/25/2021 20:30:06 INFO 139770113902400] optimizer: sgd\u001b[0m\n",
      "\u001b[34m[11/25/2021 20:30:06 INFO 139770113902400] momentum: 0.9\u001b[0m\n",
      "\u001b[34m[11/25/2021 20:30:06 INFO 139770113902400] weight_decay: 0.0001\u001b[0m\n",
      "\u001b[34m[11/25/2021 20:30:06 INFO 139770113902400] learning_rate: 0.1\u001b[0m\n",
      "\u001b[34m[11/25/2021 20:30:06 INFO 139770113902400] num_training_samples: 1000\u001b[0m\n",
      "\u001b[34m[11/25/2021 20:30:06 INFO 139770113902400] mini_batch_size: 32\u001b[0m\n",
      "\u001b[34m[11/25/2021 20:30:06 INFO 139770113902400] image_shape: 3,32,32\u001b[0m\n",
      "\u001b[34m[11/25/2021 20:30:06 INFO 139770113902400] num_classes: 2\u001b[0m\n",
      "\u001b[34m[11/25/2021 20:30:06 INFO 139770113902400] augmentation_type: None\u001b[0m\n",
      "\u001b[34m[11/25/2021 20:30:06 INFO 139770113902400] kv_store: device\u001b[0m\n",
      "\u001b[34m[11/25/2021 20:30:06 INFO 139770113902400] checkpoint_frequency not set, will store the best model\u001b[0m\n",
      "\u001b[34m[11/25/2021 20:30:06 INFO 139770113902400] --------------------\u001b[0m\n",
      "\u001b[34m[11/25/2021 20:30:06 INFO 139770113902400] Setting number of threads: 3\u001b[0m\n",
      "\u001b[34m[20:30:13] /opt/brazil-pkg-cache/packages/AIAlgorithmsMXNet/AIAlgorithmsMXNet-1.3.x_ecl_Cuda_10.1.x.6753.0/AL2_x86_64/generic-flavor/src/src/operator/nn/./cudnn/./cudnn_algoreg-inl.h:97: Running performance tests to find the best convolution algorithm, this can take a while... (setting env variable MXNET_CUDNN_AUTOTUNE_DEFAULT to 0 to disable)\u001b[0m\n",
      "\n",
      "2021-11-25 20:30:24 Training - Training image download completed. Training in progress.\u001b[34m[11/25/2021 20:30:31 INFO 139770113902400] Epoch[0] Batch [20]#011Speed: 34.090 samples/sec#011accuracy=0.555060\u001b[0m\n",
      "\u001b[34m[11/25/2021 20:30:37 INFO 139770113902400] Epoch[0] Train-accuracy=0.596774\u001b[0m\n",
      "\u001b[34m[11/25/2021 20:30:37 INFO 139770113902400] Epoch[0] Time cost=24.350\u001b[0m\n",
      "\u001b[34m[11/25/2021 20:30:38 INFO 139770113902400] Epoch[0] Validation-accuracy=0.494792\u001b[0m\n",
      "\u001b[34m[11/25/2021 20:30:39 INFO 139770113902400] Storing the best model with validation accuracy: 0.494792\u001b[0m\n",
      "\u001b[34m[11/25/2021 20:30:39 INFO 139770113902400] Saved checkpoint to \"/opt/ml/model/image-classification-0001.params\"\u001b[0m\n",
      "\u001b[34m[11/25/2021 20:30:51 INFO 139770113902400] Epoch[1] Batch [20]#011Speed: 55.889 samples/sec#011accuracy=0.660714\u001b[0m\n",
      "\u001b[34m[11/25/2021 20:30:56 INFO 139770113902400] Epoch[1] Train-accuracy=0.663306\u001b[0m\n",
      "\u001b[34m[11/25/2021 20:30:56 INFO 139770113902400] Epoch[1] Time cost=17.055\u001b[0m\n",
      "\u001b[34m[11/25/2021 20:30:58 INFO 139770113902400] Epoch[1] Validation-accuracy=0.500000\u001b[0m\n",
      "\u001b[34m[11/25/2021 20:30:58 INFO 139770113902400] Storing the best model with validation accuracy: 0.500000\u001b[0m\n",
      "\u001b[34m[11/25/2021 20:30:59 INFO 139770113902400] Saved checkpoint to \"/opt/ml/model/image-classification-0002.params\"\u001b[0m\n",
      "\u001b[34m[11/25/2021 20:31:10 INFO 139770113902400] Epoch[2] Batch [20]#011Speed: 55.691 samples/sec#011accuracy=0.665179\u001b[0m\n",
      "\u001b[34m[11/25/2021 20:31:16 INFO 139770113902400] Epoch[2] Train-accuracy=0.683468\u001b[0m\n",
      "\u001b[34m[11/25/2021 20:31:16 INFO 139770113902400] Epoch[2] Time cost=17.121\u001b[0m\n",
      "\u001b[34m[11/25/2021 20:31:17 INFO 139770113902400] Epoch[2] Validation-accuracy=0.760417\u001b[0m\n",
      "\u001b[34m[11/25/2021 20:31:17 INFO 139770113902400] Storing the best model with validation accuracy: 0.760417\u001b[0m\n",
      "\u001b[34m[11/25/2021 20:31:18 INFO 139770113902400] Saved checkpoint to \"/opt/ml/model/image-classification-0003.params\"\u001b[0m\n",
      "\u001b[34m[11/25/2021 20:31:29 INFO 139770113902400] Epoch[3] Batch [20]#011Speed: 55.991 samples/sec#011accuracy=0.717262\u001b[0m\n",
      "\u001b[34m[11/25/2021 20:31:35 INFO 139770113902400] Epoch[3] Train-accuracy=0.750000\u001b[0m\n",
      "\u001b[34m[11/25/2021 20:31:35 INFO 139770113902400] Epoch[3] Time cost=17.077\u001b[0m\n",
      "\u001b[34m[11/25/2021 20:31:37 INFO 139770113902400] Epoch[3] Validation-accuracy=0.803571\u001b[0m\n",
      "\u001b[34m[11/25/2021 20:31:37 INFO 139770113902400] Storing the best model with validation accuracy: 0.803571\u001b[0m\n",
      "\u001b[34m[11/25/2021 20:31:37 INFO 139770113902400] Saved checkpoint to \"/opt/ml/model/image-classification-0004.params\"\u001b[0m\n",
      "\u001b[34m[11/25/2021 20:31:49 INFO 139770113902400] Epoch[4] Batch [20]#011Speed: 55.617 samples/sec#011accuracy=0.811012\u001b[0m\n",
      "\u001b[34m[11/25/2021 20:31:55 INFO 139770113902400] Epoch[4] Train-accuracy=0.806452\u001b[0m\n",
      "\u001b[34m[11/25/2021 20:31:55 INFO 139770113902400] Epoch[4] Time cost=17.145\u001b[0m\n",
      "\u001b[34m[11/25/2021 20:31:56 INFO 139770113902400] Epoch[4] Validation-accuracy=0.781250\u001b[0m\n",
      "\u001b[34m[11/25/2021 20:32:08 INFO 139770113902400] Epoch[5] Batch [20]#011Speed: 55.141 samples/sec#011accuracy=0.811012\u001b[0m\n",
      "\u001b[34m[11/25/2021 20:32:14 INFO 139770113902400] Epoch[5] Train-accuracy=0.809476\u001b[0m\n",
      "\u001b[34m[11/25/2021 20:32:14 INFO 139770113902400] Epoch[5] Time cost=17.378\u001b[0m\n",
      "\u001b[34m[11/25/2021 20:32:15 INFO 139770113902400] Epoch[5] Validation-accuracy=0.812500\u001b[0m\n",
      "\u001b[34m[11/25/2021 20:32:16 INFO 139770113902400] Storing the best model with validation accuracy: 0.812500\u001b[0m\n",
      "\u001b[34m[11/25/2021 20:32:16 INFO 139770113902400] Saved checkpoint to \"/opt/ml/model/image-classification-0006.params\"\u001b[0m\n",
      "\u001b[34m[11/25/2021 20:32:28 INFO 139770113902400] Epoch[6] Batch [20]#011Speed: 55.735 samples/sec#011accuracy=0.836310\u001b[0m\n",
      "\u001b[34m[11/25/2021 20:32:33 INFO 139770113902400] Epoch[6] Train-accuracy=0.821573\u001b[0m\n",
      "\u001b[34m[11/25/2021 20:32:33 INFO 139770113902400] Epoch[6] Time cost=17.129\u001b[0m\n",
      "\u001b[34m[11/25/2021 20:32:35 INFO 139770113902400] Epoch[6] Validation-accuracy=0.786458\u001b[0m\n",
      "\u001b[34m[11/25/2021 20:32:47 INFO 139770113902400] Epoch[7] Batch [20]#011Speed: 55.605 samples/sec#011accuracy=0.830357\u001b[0m\n",
      "\u001b[34m[11/25/2021 20:32:53 INFO 139770113902400] Epoch[7] Train-accuracy=0.816532\u001b[0m\n",
      "\u001b[34m[11/25/2021 20:32:53 INFO 139770113902400] Epoch[7] Time cost=17.191\u001b[0m\n",
      "\u001b[34m[11/25/2021 20:32:54 INFO 139770113902400] Epoch[7] Validation-accuracy=0.785714\u001b[0m\n",
      "\u001b[34m[11/25/2021 20:33:06 INFO 139770113902400] Epoch[8] Batch [20]#011Speed: 54.739 samples/sec#011accuracy=0.827381\u001b[0m\n",
      "\u001b[34m[11/25/2021 20:33:12 INFO 139770113902400] Epoch[8] Train-accuracy=0.830645\u001b[0m\n",
      "\u001b[34m[11/25/2021 20:33:12 INFO 139770113902400] Epoch[8] Time cost=17.370\u001b[0m\n",
      "\u001b[34m[11/25/2021 20:33:14 INFO 139770113902400] Epoch[8] Validation-accuracy=0.828125\u001b[0m\n",
      "\u001b[34m[11/25/2021 20:33:14 INFO 139770113902400] Storing the best model with validation accuracy: 0.828125\u001b[0m\n",
      "\u001b[34m[11/25/2021 20:33:14 INFO 139770113902400] Saved checkpoint to \"/opt/ml/model/image-classification-0009.params\"\u001b[0m\n",
      "\u001b[34m[11/25/2021 20:33:26 INFO 139770113902400] Epoch[9] Batch [20]#011Speed: 55.624 samples/sec#011accuracy=0.827381\u001b[0m\n",
      "\u001b[34m[11/25/2021 20:33:32 INFO 139770113902400] Epoch[9] Train-accuracy=0.837702\u001b[0m\n",
      "\u001b[34m[11/25/2021 20:33:32 INFO 139770113902400] Epoch[9] Time cost=17.174\u001b[0m\n",
      "\u001b[34m[11/25/2021 20:33:33 INFO 139770113902400] Epoch[9] Validation-accuracy=0.854167\u001b[0m\n",
      "\u001b[34m[11/25/2021 20:33:33 INFO 139770113902400] Storing the best model with validation accuracy: 0.854167\u001b[0m\n",
      "\u001b[34m[11/25/2021 20:33:34 INFO 139770113902400] Saved checkpoint to \"/opt/ml/model/image-classification-0010.params\"\u001b[0m\n",
      "\u001b[34m[11/25/2021 20:33:45 INFO 139770113902400] Epoch[10] Batch [20]#011Speed: 55.511 samples/sec#011accuracy=0.877976\u001b[0m\n",
      "\u001b[34m[11/25/2021 20:33:51 INFO 139770113902400] Epoch[10] Train-accuracy=0.862903\u001b[0m\n",
      "\u001b[34m[11/25/2021 20:33:51 INFO 139770113902400] Epoch[10] Time cost=17.206\u001b[0m\n",
      "\u001b[34m[11/25/2021 20:33:52 INFO 139770113902400] Epoch[10] Validation-accuracy=0.817708\u001b[0m\n",
      "\u001b[34m[11/25/2021 20:34:05 INFO 139770113902400] Epoch[11] Batch [20]#011Speed: 55.004 samples/sec#011accuracy=0.842262\u001b[0m\n",
      "\u001b[34m[11/25/2021 20:34:10 INFO 139770113902400] Epoch[11] Train-accuracy=0.841734\u001b[0m\n",
      "\u001b[34m[11/25/2021 20:34:10 INFO 139770113902400] Epoch[11] Time cost=17.491\u001b[0m\n",
      "\u001b[34m[11/25/2021 20:34:12 INFO 139770113902400] Epoch[11] Validation-accuracy=0.790179\u001b[0m\n",
      "\u001b[34m[11/25/2021 20:34:24 INFO 139770113902400] Epoch[12] Batch [20]#011Speed: 55.457 samples/sec#011accuracy=0.886905\u001b[0m\n",
      "\u001b[34m[11/25/2021 20:34:30 INFO 139770113902400] Epoch[12] Train-accuracy=0.884073\u001b[0m\n",
      "\u001b[34m[11/25/2021 20:34:30 INFO 139770113902400] Epoch[12] Time cost=17.198\u001b[0m\n",
      "\u001b[34m[11/25/2021 20:34:31 INFO 139770113902400] Epoch[12] Validation-accuracy=0.807292\u001b[0m\n",
      "\u001b[34m[11/25/2021 20:34:43 INFO 139770113902400] Epoch[13] Batch [20]#011Speed: 55.322 samples/sec#011accuracy=0.845238\u001b[0m\n",
      "\u001b[34m[11/25/2021 20:34:49 INFO 139770113902400] Epoch[13] Train-accuracy=0.865927\u001b[0m\n",
      "\u001b[34m[11/25/2021 20:34:49 INFO 139770113902400] Epoch[13] Time cost=17.231\u001b[0m\n",
      "\u001b[34m[11/25/2021 20:34:51 INFO 139770113902400] Epoch[13] Validation-accuracy=0.833333\u001b[0m\n",
      "\u001b[34m[11/25/2021 20:35:03 INFO 139770113902400] Epoch[14] Batch [20]#011Speed: 55.414 samples/sec#011accuracy=0.891369\u001b[0m\n",
      "\u001b[34m[11/25/2021 20:35:08 INFO 139770113902400] Epoch[14] Train-accuracy=0.887097\u001b[0m\n",
      "\u001b[34m[11/25/2021 20:35:08 INFO 139770113902400] Epoch[14] Time cost=17.314\u001b[0m\n",
      "\u001b[34m[11/25/2021 20:35:10 INFO 139770113902400] Epoch[14] Validation-accuracy=0.817708\u001b[0m\n",
      "\u001b[34m[11/25/2021 20:35:22 INFO 139770113902400] Epoch[15] Batch [20]#011Speed: 55.150 samples/sec#011accuracy=0.903274\u001b[0m\n",
      "\u001b[34m[11/25/2021 20:35:28 INFO 139770113902400] Epoch[15] Train-accuracy=0.888105\u001b[0m\n",
      "\u001b[34m[11/25/2021 20:35:28 INFO 139770113902400] Epoch[15] Time cost=17.297\u001b[0m\n",
      "\u001b[34m[11/25/2021 20:35:29 INFO 139770113902400] Epoch[15] Validation-accuracy=0.812500\u001b[0m\n",
      "\u001b[34m[11/25/2021 20:35:41 INFO 139770113902400] Epoch[16] Batch [20]#011Speed: 55.052 samples/sec#011accuracy=0.928571\u001b[0m\n",
      "\u001b[34m[11/25/2021 20:35:47 INFO 139770113902400] Epoch[16] Train-accuracy=0.907258\u001b[0m\n",
      "\u001b[34m[11/25/2021 20:35:47 INFO 139770113902400] Epoch[16] Time cost=17.342\u001b[0m\n",
      "\u001b[34m[11/25/2021 20:35:49 INFO 139770113902400] Epoch[16] Validation-accuracy=0.833333\u001b[0m\n",
      "\u001b[34m[11/25/2021 20:36:01 INFO 139770113902400] Epoch[17] Batch [20]#011Speed: 55.499 samples/sec#011accuracy=0.900298\u001b[0m\n",
      "\u001b[34m[11/25/2021 20:36:06 INFO 139770113902400] Epoch[17] Train-accuracy=0.897177\u001b[0m\n",
      "\u001b[34m[11/25/2021 20:36:06 INFO 139770113902400] Epoch[17] Time cost=17.314\u001b[0m\n",
      "\u001b[34m[11/25/2021 20:36:08 INFO 139770113902400] Epoch[17] Validation-accuracy=0.796875\u001b[0m\n",
      "\u001b[34m[11/25/2021 20:36:20 INFO 139770113902400] Epoch[18] Batch [20]#011Speed: 55.430 samples/sec#011accuracy=0.918155\u001b[0m\n",
      "\u001b[34m[11/25/2021 20:36:26 INFO 139770113902400] Epoch[18] Train-accuracy=0.920363\u001b[0m\n",
      "\u001b[34m[11/25/2021 20:36:26 INFO 139770113902400] Epoch[18] Time cost=17.222\u001b[0m\n",
      "\u001b[34m[11/25/2021 20:36:27 INFO 139770113902400] Epoch[18] Validation-accuracy=0.812500\u001b[0m\n",
      "\u001b[34m[11/25/2021 20:36:39 INFO 139770113902400] Epoch[19] Batch [20]#011Speed: 55.593 samples/sec#011accuracy=0.947917\u001b[0m\n",
      "\u001b[34m[11/25/2021 20:36:45 INFO 139770113902400] Epoch[19] Train-accuracy=0.950605\u001b[0m\n",
      "\u001b[34m[11/25/2021 20:36:45 INFO 139770113902400] Epoch[19] Time cost=17.194\u001b[0m\n",
      "\u001b[34m[11/25/2021 20:36:47 INFO 139770113902400] Epoch[19] Validation-accuracy=0.848214\u001b[0m\n",
      "\u001b[34m[11/25/2021 20:36:59 INFO 139770113902400] Epoch[20] Batch [20]#011Speed: 54.974 samples/sec#011accuracy=0.947917\u001b[0m\n",
      "\u001b[34m[11/25/2021 20:37:04 INFO 139770113902400] Epoch[20] Train-accuracy=0.935484\u001b[0m\n",
      "\u001b[34m[11/25/2021 20:37:04 INFO 139770113902400] Epoch[20] Time cost=17.373\u001b[0m\n",
      "\u001b[34m[11/25/2021 20:37:06 INFO 139770113902400] Epoch[20] Validation-accuracy=0.817708\u001b[0m\n",
      "\u001b[34m[11/25/2021 20:37:18 INFO 139770113902400] Epoch[21] Batch [20]#011Speed: 55.441 samples/sec#011accuracy=0.950893\u001b[0m\n",
      "\u001b[34m[11/25/2021 20:37:24 INFO 139770113902400] Epoch[21] Train-accuracy=0.949597\u001b[0m\n",
      "\u001b[34m[11/25/2021 20:37:24 INFO 139770113902400] Epoch[21] Time cost=17.219\u001b[0m\n",
      "\u001b[34m[11/25/2021 20:37:25 INFO 139770113902400] Epoch[21] Validation-accuracy=0.812500\u001b[0m\n",
      "\u001b[34m[11/25/2021 20:37:37 INFO 139770113902400] Epoch[22] Batch [20]#011Speed: 55.616 samples/sec#011accuracy=0.967262\u001b[0m\n",
      "\u001b[34m[11/25/2021 20:37:43 INFO 139770113902400] Epoch[22] Train-accuracy=0.965726\u001b[0m\n",
      "\u001b[34m[11/25/2021 20:37:43 INFO 139770113902400] Epoch[22] Time cost=17.208\u001b[0m\n",
      "\u001b[34m[11/25/2021 20:37:44 INFO 139770113902400] Epoch[22] Validation-accuracy=0.755208\u001b[0m\n",
      "\u001b[34m[11/25/2021 20:37:57 INFO 139770113902400] Epoch[23] Batch [20]#011Speed: 55.601 samples/sec#011accuracy=0.946429\u001b[0m\n",
      "\u001b[34m[11/25/2021 20:38:02 INFO 139770113902400] Epoch[23] Train-accuracy=0.934476\u001b[0m\n",
      "\u001b[34m[11/25/2021 20:38:02 INFO 139770113902400] Epoch[23] Time cost=17.207\u001b[0m\n",
      "\u001b[34m[11/25/2021 20:38:04 INFO 139770113902400] Epoch[23] Validation-accuracy=0.825893\u001b[0m\n",
      "\u001b[34m[11/25/2021 20:38:16 INFO 139770113902400] Epoch[24] Batch [20]#011Speed: 55.082 samples/sec#011accuracy=0.958333\u001b[0m\n",
      "\u001b[34m[11/25/2021 20:38:22 INFO 139770113902400] Epoch[24] Train-accuracy=0.962702\u001b[0m\n",
      "\u001b[34m[11/25/2021 20:38:22 INFO 139770113902400] Epoch[24] Time cost=17.274\u001b[0m\n",
      "\u001b[34m[11/25/2021 20:38:23 INFO 139770113902400] Epoch[24] Validation-accuracy=0.833333\u001b[0m\n",
      "\u001b[34m[11/25/2021 20:38:35 INFO 139770113902400] Epoch[25] Batch [20]#011Speed: 55.662 samples/sec#011accuracy=0.976190\u001b[0m\n",
      "\u001b[34m[11/25/2021 20:38:41 INFO 139770113902400] Epoch[25] Train-accuracy=0.975806\u001b[0m\n",
      "\u001b[34m[11/25/2021 20:38:41 INFO 139770113902400] Epoch[25] Time cost=17.175\u001b[0m\n",
      "\u001b[34m[11/25/2021 20:38:42 INFO 139770113902400] Epoch[25] Validation-accuracy=0.828125\u001b[0m\n",
      "\u001b[34m[11/25/2021 20:38:55 INFO 139770113902400] Epoch[26] Batch [20]#011Speed: 55.596 samples/sec#011accuracy=0.953869\u001b[0m\n",
      "\u001b[34m[11/25/2021 20:39:00 INFO 139770113902400] Epoch[26] Train-accuracy=0.956653\u001b[0m\n",
      "\u001b[34m[11/25/2021 20:39:00 INFO 139770113902400] Epoch[26] Time cost=17.184\u001b[0m\n",
      "\u001b[34m[11/25/2021 20:39:02 INFO 139770113902400] Epoch[26] Validation-accuracy=0.791667\u001b[0m\n",
      "\u001b[34m[11/25/2021 20:39:14 INFO 139770113902400] Epoch[27] Batch [20]#011Speed: 55.283 samples/sec#011accuracy=0.994048\u001b[0m\n",
      "\u001b[34m[11/25/2021 20:39:19 INFO 139770113902400] Epoch[27] Train-accuracy=0.986895\u001b[0m\n",
      "\u001b[34m[11/25/2021 20:39:19 INFO 139770113902400] Epoch[27] Time cost=17.246\u001b[0m\n",
      "\u001b[34m[11/25/2021 20:39:21 INFO 139770113902400] Epoch[27] Validation-accuracy=0.816964\u001b[0m\n",
      "\u001b[34m[11/25/2021 20:39:33 INFO 139770113902400] Epoch[28] Batch [20]#011Speed: 55.563 samples/sec#011accuracy=0.979167\u001b[0m\n",
      "\u001b[34m[11/25/2021 20:39:39 INFO 139770113902400] Epoch[28] Train-accuracy=0.976815\u001b[0m\n",
      "\u001b[34m[11/25/2021 20:39:39 INFO 139770113902400] Epoch[28] Time cost=17.167\u001b[0m\n",
      "\u001b[34m[11/25/2021 20:39:40 INFO 139770113902400] Epoch[28] Validation-accuracy=0.822917\u001b[0m\n",
      "\u001b[34m[11/25/2021 20:39:52 INFO 139770113902400] Epoch[29] Batch [20]#011Speed: 55.733 samples/sec#011accuracy=0.988095\u001b[0m\n",
      "\u001b[34m[11/25/2021 20:39:58 INFO 139770113902400] Epoch[29] Train-accuracy=0.986895\u001b[0m\n",
      "\u001b[34m[11/25/2021 20:39:58 INFO 139770113902400] Epoch[29] Time cost=17.133\u001b[0m\n",
      "\u001b[34m[11/25/2021 20:39:59 INFO 139770113902400] Epoch[29] Validation-accuracy=0.833333\u001b[0m\n",
      "\n",
      "2021-11-25 20:40:08 Uploading - Uploading generated training model\n",
      "2021-11-25 20:40:46 Completed - Training job completed\n",
      "Training seconds: 758\n",
      "Billable seconds: 758\n"
     ]
    }
   ],
   "source": [
    "## TODO: train your model\n",
    "img_classifier_model.fit(model_inputs)"
   ]
  },
  {
   "cell_type": "markdown",
   "metadata": {},
   "source": [
    "If all goes well, you'll end up with a model topping out above `.8` validation accuracy. With only 1000 training samples in the CIFAR dataset, that's pretty good. We could definitely pursue data augmentation & gathering more samples to help us improve further, but for now let's proceed to deploy our model.\n",
    "\n",
    "### Getting ready to deploy\n",
    "\n",
    "To begin with, let's configure Model Monitor to track our deployment. We'll define a `DataCaptureConfig` below:"
   ]
  },
  {
   "cell_type": "code",
   "execution_count": 18,
   "metadata": {},
   "outputs": [],
   "source": [
    "from sagemaker.model_monitor import DataCaptureConfig\n",
    "\n",
    "data_capture_config = DataCaptureConfig(\n",
    "    enable_capture=True,\n",
    "    sampling_percentage=25,\n",
    "    destination_s3_uri=f\"s3://{bucket}/data_capture\"\n",
    ")"
   ]
  },
  {
   "cell_type": "markdown",
   "metadata": {},
   "source": [
    "Note the `destination_s3_uri` parameter: At the end of the project, we can explore the `data_capture` directory in S3 to find crucial data about the inputs and outputs Model Monitor has observed on our model endpoint over time.\n",
    "\n",
    "With that done, deploy your model on a single `ml.m5.xlarge` instance with the data capture config attached:"
   ]
  },
  {
   "cell_type": "code",
   "execution_count": 19,
   "metadata": {},
   "outputs": [
    {
     "name": "stdout",
     "output_type": "stream",
     "text": [
      "---------------!image-classification-2021-11-25-20-42-44-283\n"
     ]
    }
   ],
   "source": [
    "deployment = img_classifier_model.deploy(\n",
    "    initial_instance_count=1, \n",
    "    instance_type=\"ml.m5.xlarge\",\n",
    "    data_capture_config=data_capture_config\n",
    "    )\n",
    "\n",
    "endpoint = deployment.endpoint_name\n",
    "print(endpoint)"
   ]
  },
  {
   "cell_type": "markdown",
   "metadata": {},
   "source": [
    "Note the endpoint name for later as well.\n",
    "\n",
    "Next, instantiate a Predictor:"
   ]
  },
  {
   "cell_type": "code",
   "execution_count": 20,
   "metadata": {},
   "outputs": [],
   "source": [
    "predictor = sagemaker.Predictor(endpoint)"
   ]
  },
  {
   "cell_type": "markdown",
   "metadata": {},
   "source": [
    "In the code snippet below we are going to prepare one of your saved images for prediction. Use the predictor to process the `payload`."
   ]
  },
  {
   "cell_type": "code",
   "execution_count": 21,
   "metadata": {},
   "outputs": [],
   "source": [
    "from sagemaker.serializers import IdentitySerializer\n",
    "import base64\n",
    "\n",
    "\n",
    "predictor.serializer = IdentitySerializer(\"image/png\")\n",
    "with open(\"./test/bicycle_s_001789.png\", \"rb\") as f:\n",
    "    payload = f.read()\n",
    "\n",
    "    \n",
    "inference = predictor.predict(payload, initial_args={'ContentType': 'application/x-image'})"
   ]
  },
  {
   "cell_type": "markdown",
   "metadata": {},
   "source": [
    "Your `inference` object is an array of two values, the predicted probability value for each of your classes (bicycle and motorcycle respectively.) So, for example, a value of `b'[0.91, 0.09]'` indicates the probability of being a bike is 91% and being a motorcycle is 9%."
   ]
  },
  {
   "cell_type": "code",
   "execution_count": 22,
   "metadata": {},
   "outputs": [
    {
     "name": "stdout",
     "output_type": "stream",
     "text": [
      "b'[0.871457040309906, 0.1285429149866104]'\n"
     ]
    }
   ],
   "source": [
    "print(inference)"
   ]
  },
  {
   "cell_type": "markdown",
   "metadata": {},
   "source": [
    "### Draft Lambdas and Step Function Workflow\n",
    "\n",
    "Your operations team uses Step Functions to orchestrate serverless workflows. One of the nice things about Step Functions is that [workflows can call other workflows](https://docs.aws.amazon.com/step-functions/latest/dg/connect-stepfunctions.html), so the team can easily plug your workflow into the broader production architecture for Scones Unlimited.\n",
    "\n",
    "In this next stage you're going to write and deploy three Lambda functions, and then use the Step Functions visual editor to chain them together! Our functions are going to work with a simple data object:\n",
    "\n",
    "```python\n",
    "{\n",
    "    \"inferences\": [], # Output of predictor.predict\n",
    "    \"s3_key\": \"\", # Source data S3 key\n",
    "    \"s3_bucket\": \"\", # Source data S3 bucket\n",
    "    \"image_data\": \"\"  # base64 encoded string containing the image data\n",
    "}\n",
    "```\n",
    "\n",
    "A good test object that you can use for Lambda tests and Step Function executions, throughout the next section, might look like this:\n",
    "\n",
    "```python\n",
    "{\n",
    "  \"image_data\": \"\",\n",
    "  \"s3_bucket\": MY_BUCKET_NAME, # Fill in with your bucket\n",
    "  \"s3_key\": \"test/bicycle_s_000513.png\"\n",
    "}\n",
    "```\n",
    "\n",
    "Using these fields, your functions can read and write the necessary data to execute your workflow. Let's start with the first function. Your first Lambda function will copy an object from S3, base64 encode it, and then return it to the step function as `image_data` in an event.\n",
    "\n",
    "Go to the Lambda dashboard and create a new Lambda function with a descriptive name like \"serializeImageData\" and select thr 'Python 3.8' runtime. Add the same permissions as the SageMaker role you created earlier. (Reminder: you do this in the Configuration tab under \"Permissions\"). Once you're ready, use the starter code below to craft your Lambda handler:\n",
    "\n",
    "```python\n",
    "import json\n",
    "import boto3\n",
    "import base64\n",
    "\n",
    "s3 = boto3.client('s3')\n",
    "\n",
    "def lambda_handler(event, context):\n",
    "    \"\"\"A function to serialize target data from S3\"\"\"\n",
    "    \n",
    "    # Get the s3 address from the Step Function event input\n",
    "    key = ## TODO: fill in\n",
    "    bucket = ## TODO: fill in\n",
    "    \n",
    "    # Download the data from s3 to /tmp/image.png\n",
    "    ## TODO: fill in\n",
    "    \n",
    "    # We read the data from a file\n",
    "    with open(\"/tmp/image.png\", \"rb\") as f:\n",
    "        image_data = base64.b64encode(f.read())\n",
    "\n",
    "    # Pass the data back to the Step Function\n",
    "    print(\"Event:\", event.keys())\n",
    "    return {\n",
    "        'statusCode': 200,\n",
    "        'body': {\n",
    "            \"image_data\": image_data,\n",
    "            \"s3_bucket\": bucket,\n",
    "            \"s3_key\": key,\n",
    "            \"inferences\": []\n",
    "        }\n",
    "    }\n",
    "```\n",
    "\n",
    "The next function is responsible for the classification part - we're going to take the image output from the previous function, decode it, and then pass inferences back to the the Step Function.\n",
    "\n",
    "Because this Lambda will have runtime dependencies (i.e. the SageMaker SDK) you'll need to package them in your function. *Key reading:* https://docs.aws.amazon.com/lambda/latest/dg/python-package-create.html#python-package-create-with-dependency\n",
    "\n",
    "Create a new Lambda function with the same rights and a descriptive name, then fill in the starter code below for your classifier Lambda.\n",
    "\n",
    "```python\n",
    "import json\n",
    "import sagemaker\n",
    "import base64\n",
    "from sagemaker.serializers import IdentitySerializer\n",
    "\n",
    "# Fill this in with the name of your deployed model\n",
    "ENDPOINT = ## TODO: fill in\n",
    "\n",
    "def lambda_handler(event, context):\n",
    "\n",
    "    # Decode the image data\n",
    "    image = base64.b64decode(## TODO: fill in)\n",
    "\n",
    "    # Instantiate a Predictor\n",
    "    predictor = ## TODO: fill in\n",
    "\n",
    "    # For this model the IdentitySerializer needs to be \"image/png\"\n",
    "    predictor.serializer = IdentitySerializer(\"image/png\")\n",
    "    \n",
    "    # Make a prediction:\n",
    "    inferences = ## TODO: fill in\n",
    "    \n",
    "    # We return the data back to the Step Function    \n",
    "    event[\"inferences\"] = inferences.decode('utf-8')\n",
    "    return {\n",
    "        'statusCode': 200,\n",
    "        'body': json.dumps(event)\n",
    "    }\n",
    "```\n",
    "\n",
    "Finally, we need to filter low-confidence inferences. Define a threshold between 1.00 and 0.000 for your model: what is reasonble for you? If the model predicts at `.70` for it's highest confidence label, do we want to pass that inference along to downstream systems? Make one last Lambda function and tee up the same permissions:\n",
    "\n",
    "```python\n",
    "import json\n",
    "\n",
    "\n",
    "THRESHOLD = .93\n",
    "\n",
    "\n",
    "def lambda_handler(event, context):\n",
    "    \n",
    "    # Grab the inferences from the event\n",
    "    inferences = ## TODO: fill in\n",
    "    \n",
    "    # Check if any values in our inferences are above THRESHOLD\n",
    "    meets_threshold = ## TODO: fill in\n",
    "    \n",
    "    # If our threshold is met, pass our data back out of the\n",
    "    # Step Function, else, end the Step Function with an error\n",
    "    if meets_threshold:\n",
    "        pass\n",
    "    else:\n",
    "        raise(\"THRESHOLD_CONFIDENCE_NOT_MET\")\n",
    "\n",
    "    return {\n",
    "        'statusCode': 200,\n",
    "        'body': json.dumps(event)\n",
    "    }\n",
    "```\n",
    "Once you have tested the lambda functions, save the code for each lambda function in a python script called 'lambda.py'.\n",
    "\n",
    "With your lambdas in place, you can use the Step Functions visual editor to construct a workflow that chains them together. In the Step Functions console you'll have the option to author a Standard step function *Visually*.\n",
    "\n",
    "When the visual editor opens, you'll have many options to add transitions in your workflow. We're going to keep it simple and have just one: to invoke Lambda functions. Add three of them chained together. For each one, you'll be able to select the Lambda functions you just created in the proper order, filter inputs and outputs, and give them descriptive names.\n",
    "\n",
    "Make sure that you:\n",
    "\n",
    "1. Are properly filtering the inputs and outputs of your invokations (e.g. `$.body`)\n",
    "2. Take care to remove the error handling from the last function - it's supposed to \"fail loudly\" for your operations colleagues!\n",
    "\n",
    "Take a screenshot of your working step function in action and export the step function as JSON for your submission package."
   ]
  },
  {
   "cell_type": "markdown",
   "metadata": {},
   "source": [
    "\n",
    "Great! Now you can use the files in `./test` as test files for our workflow. Depending on our threshold, our workflow should reliably pass predictions about images from `./test` on to downstream systems, while erroring out for inferences below our confidence threshold!\n",
    "\n",
    "### Testing and Evaluation\n",
    "\n",
    "Do several step function invokations using data from the `./test` folder. This process should give you confidence that the workflow both *succeeds* AND *fails* as expected. In addition, SageMaker Model Monitor will generate recordings of your data and inferences which we can visualize.\n",
    "\n",
    "Here's a function that can help you generate test inputs for your invokations:"
   ]
  },
  {
   "cell_type": "code",
   "execution_count": 121,
   "metadata": {},
   "outputs": [
    {
     "data": {
      "text/plain": [
       "'{\"image_data\": \"\", \"s3_bucket\": \"sagemaker-us-east-1-982105387725\", \"s3_key\": \"test/motorcycle_s_000679.png\"}'"
      ]
     },
     "execution_count": 121,
     "metadata": {},
     "output_type": "execute_result"
    }
   ],
   "source": [
    "import random\n",
    "import boto3\n",
    "import json\n",
    "\n",
    "\n",
    "def generate_test_case():\n",
    "    # Setup s3 in boto3\n",
    "    s3 = boto3.resource('s3')\n",
    "    \n",
    "    # Randomly pick from sfn or test folders in our bucket\n",
    "    objects = s3.Bucket(bucket).objects.filter(Prefix=\"test\")\n",
    "    \n",
    "    # Grab any random object key from that folder!\n",
    "    obj = random.choice([x.key for x in objects])\n",
    "    \n",
    "    return json.dumps({\n",
    "        \"image_data\": \"\",\n",
    "        \"s3_bucket\": bucket,\n",
    "        \"s3_key\": obj\n",
    "    })\n",
    "generate_test_case()"
   ]
  },
  {
   "cell_type": "markdown",
   "metadata": {},
   "source": [
    "In the Step Function dashboard for your new function, you can create new executions and copy in the generated test cases. Do several executions so that you can generate data you can evaluate and visualize.\n",
    "\n",
    "Once you've done several executions, let's visualize the record of our inferences. Pull in the JSONLines data from your inferences like so:"
   ]
  },
  {
   "cell_type": "code",
   "execution_count": 122,
   "metadata": {},
   "outputs": [],
   "source": [
    "from sagemaker.s3 import S3Downloader\n",
    "\n",
    "# In S3 your data will be saved to a datetime-aware path\n",
    "# Find a path related to a datetime you're interested in\n",
    "data_path = \"s3://sagemaker-us-east-1-982105387725/data_capture/image-classification-2021-11-25-20-42-44-283/AllTraffic/2021/11/25/22/\"\n",
    "\n",
    "S3Downloader.download(data_path, \"captured_data\")\n",
    "\n",
    "data_path = \"s3://sagemaker-us-east-1-982105387725/data_capture/image-classification-2021-11-25-20-42-44-283/AllTraffic/2021/11/26/00/\"\n",
    "\n",
    "S3Downloader.download(data_path, \"captured_data\")\n",
    "# Feel free to repeat this multiple times and pull in more data"
   ]
  },
  {
   "cell_type": "markdown",
   "metadata": {},
   "source": [
    "The data are in JSONLines format, where multiple valid JSON objects are stacked on top of eachother in a single `jsonl` file. We'll import an open-source library, `jsonlines` that was purpose built for parsing this format."
   ]
  },
  {
   "cell_type": "code",
   "execution_count": 56,
   "metadata": {},
   "outputs": [
    {
     "name": "stdout",
     "output_type": "stream",
     "text": [
      "/opt/conda/lib/python3.7/site-packages/secretstorage/dhcrypto.py:16: CryptographyDeprecationWarning: int_from_bytes is deprecated, use int.from_bytes instead\n",
      "  from cryptography.utils import int_from_bytes\n",
      "/opt/conda/lib/python3.7/site-packages/secretstorage/util.py:25: CryptographyDeprecationWarning: int_from_bytes is deprecated, use int.from_bytes instead\n",
      "  from cryptography.utils import int_from_bytes\n",
      "Collecting jsonlines\n",
      "  Downloading jsonlines-2.0.0-py3-none-any.whl (6.3 kB)\n",
      "Installing collected packages: jsonlines\n",
      "Successfully installed jsonlines-2.0.0\n",
      "\u001b[33mWARNING: Running pip as the 'root' user can result in broken permissions and conflicting behaviour with the system package manager. It is recommended to use a virtual environment instead: https://pip.pypa.io/warnings/venv\u001b[0m\n"
     ]
    }
   ],
   "source": [
    "!pip install jsonlines\n",
    "import jsonlines"
   ]
  },
  {
   "cell_type": "markdown",
   "metadata": {},
   "source": [
    "Now we can extract the data from each of the source files:"
   ]
  },
  {
   "cell_type": "code",
   "execution_count": 123,
   "metadata": {},
   "outputs": [],
   "source": [
    "import os\n",
    "\n",
    "# List the file names we downloaded\n",
    "file_handles = os.listdir(\"./captured_data\")\n",
    "\n",
    "# Dump all the data into an array\n",
    "json_data = []\n",
    "for jsonl in file_handles:\n",
    "    with jsonlines.open(f\"./captured_data/{jsonl}\") as f:\n",
    "        json_data.append(f.read())"
   ]
  },
  {
   "cell_type": "markdown",
   "metadata": {},
   "source": [
    "The data should now be a list of dictionaries, with significant nesting. We'll give you an example of some code that grabs data out of the objects and visualizes it:"
   ]
  },
  {
   "cell_type": "code",
   "execution_count": 124,
   "metadata": {},
   "outputs": [
    {
     "data": {
      "text/plain": [
       "([0.020497608929872513, 0.9795023798942566], '2021-11-25T22:50:52Z')"
      ]
     },
     "execution_count": 124,
     "metadata": {},
     "output_type": "execute_result"
    }
   ],
   "source": [
    "# Define how we'll get our data\n",
    "def simple_getter(obj):\n",
    "    inferences = obj[\"captureData\"][\"endpointOutput\"][\"data\"]\n",
    "    timestamp = obj[\"eventMetadata\"][\"inferenceTime\"]\n",
    "    return json.loads(inferences), timestamp\n",
    "\n",
    "simple_getter(json_data[0])"
   ]
  },
  {
   "cell_type": "markdown",
   "metadata": {},
   "source": [
    "Finally, here's an example of a visualization you can build with this data. In this last part, you will take some time and build your own - the captured data has the input images, the resulting inferences, and the timestamps."
   ]
  },
  {
   "cell_type": "code",
   "execution_count": 125,
   "metadata": {},
   "outputs": [
    {
     "data": {
      "image/png": "[encoded data removed]",
      "text/plain": [
       "<Figure size 432x288 with 1 Axes>"
      ]
     },
     "metadata": {},
     "output_type": "display_data"
    }
   ],
   "source": [
    "# Populate the data for the x and y axis\n",
    "x = []\n",
    "y = []\n",
    "for obj in json_data:\n",
    "    inference, timestamp = simple_getter(obj)\n",
    "    \n",
    "    y.append(max(inference))\n",
    "    x.append(timestamp)\n",
    "\n",
    "# Todo: here is an visualization example, take some time to build another visual that helps monitor the result\n",
    "# Plot the data\n",
    "plt.scatter(x, y, c=['r' if k<.93 else 'b' for k in y ])\n",
    "plt.axhline(y=0.93, color='g', linestyle='--')\n",
    "plt.ylim(bottom=.50)\n",
    "\n",
    "# Add labels\n",
    "plt.ylabel(\"Confidence\")\n",
    "plt.suptitle(\"Observed Recent Inferences\", size=14)\n",
    "plt.title(\"Pictured with confidence threshold for production use\", size=10)\n",
    "\n",
    "# Give it some pizzaz!\n",
    "plt.style.use(\"Solarize_Light2\")\n",
    "plt.gcf().autofmt_xdate()"
   ]
  },
  {
   "cell_type": "markdown",
   "metadata": {},
   "source": [
    "### Todo: build your own visualization\n"
   ]
  },
  {
   "cell_type": "code",
   "execution_count": 126,
   "metadata": {},
   "outputs": [
    {
     "name": "stdout",
     "output_type": "stream",
     "text": [
      "[0.020497608929872513, 0.9795023798942566]\n",
      "[0.020317787304520607, 0.979682207107544]\n",
      "[0.9788185358047485, 0.021181410178542137]\n",
      "[0.6750788688659668, 0.3249211311340332]\n",
      "[0.46840769052505493, 0.5315923094749451]\n",
      "[0.2064541131258011, 0.7935458421707153]\n",
      "[0.2744881510734558, 0.7255118489265442]\n",
      "[0.8488184809684753, 0.15118154883384705]\n",
      "[1, 1, 0, 0, 1, 1, 1, 0]\n"
     ]
    },
    {
     "data": {
      "image/png": "[encoded data removed]",
      "text/plain": [
       "<Figure size 432x288 with 1 Axes>"
      ]
     },
     "metadata": {},
     "output_type": "display_data"
    }
   ],
   "source": [
    "# Populate the data for the x and y axis\n",
    "x = []\n",
    "y = []\n",
    "for obj in json_data:\n",
    "    inference, timestamp = simple_getter(obj)\n",
    "    print(inference)\n",
    "    y.append(np.argmax(inference))\n",
    "    x.append(timestamp)\n",
    "print(y)\n",
    "# Todo: here is an visualization example, take some time to build another visual that helps monitor the result\n",
    "# Plot the data\n",
    "plt.scatter(x, y, c=['r' if k<.93 else 'b' for k in y ])\n",
    "plt.axhline(y=0.93, color='g', linestyle='--')\n",
    "plt.ylim(bottom=.50)\n",
    "\n",
    "# Add labels\n",
    "plt.ylabel(\"Confidence\")\n",
    "plt.suptitle(\"Observed Recent Inferences\", size=14)\n",
    "plt.title(\"Pictured with confidence threshold for production use\", size=10)\n",
    "\n",
    "# Give it some pizzaz!\n",
    "plt.style.use(\"Solarize_Light2\")\n",
    "plt.gcf().autofmt_xdate()"
   ]
  },
  {
   "cell_type": "markdown",
   "metadata": {},
   "source": [
    "### Congratulations!\n",
    "\n",
    "You've reached the end of the project. In this project you created an event-drivent ML workflow that can be incorporated into the Scones Unlimited production architecture. You used the SageMaker Estimator API to deploy your SageMaker Model and Endpoint, and you used AWS Lambda and Step Functions to orchestrate your ML workflow. Using SageMaker Model Monitor, you instrumented and observed your Endpoint, and at the end of the project you built a visualization to help stakeholders understand the performance of the Endpoint over time. If you're up for it, you can even go further with these stretch goals:\n",
    "\n",
    "* Extend your workflow to incorporate more classes: the CIFAR dataset includes other vehicles that Scones Unlimited can identify with this model.\n",
    "* Modify your event driven workflow: can you rewrite your Lambda functions so that the workflow can process multiple image inputs in parallel? Can the Step Function \"fan out\" to accomodate this new workflow?\n",
    "* Consider the test data generator we provided for you. Can we use it to create a \"dummy data\" generator, to simulate a continuous stream of input data? Or a big paralell load of data?\n",
    "* What if we want to get notified every time our step function errors out? Can we use the Step Functions visual editor in conjunction with a service like SNS to accomplish this? Try it out!\n",
    "\n",
    "\n"
   ]
  }
 ],
 "metadata": {
  "instance_type": "ml.t3.medium",
  "kernelspec": {
   "display_name": "Python 3 (Data Science)",
   "language": "python",
   "name": "python3__SAGEMAKER_INTERNAL__arn:aws:sagemaker:us-east-1:081325390199:image/datascience-1.0"
  },
  "language_info": {
   "codemirror_mode": {
    "name": "ipython",
    "version": 3
   },
   "file_extension": ".py",
   "mimetype": "text/x-python",
   "name": "python",
   "nbconvert_exporter": "python",
   "pygments_lexer": "ipython3",
   "version": "3.7.10"
  }
 },
 "nbformat": 4,
 "nbformat_minor": 4
}
